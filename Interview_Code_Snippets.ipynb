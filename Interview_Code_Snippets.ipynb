{
  "nbformat": 4,
  "nbformat_minor": 0,
  "metadata": {
    "colab": {
      "name": "Interview_Code_Snippets.ipynb",
      "provenance": [],
      "collapsed_sections": [],
      "authorship_tag": "ABX9TyO1W8KthS+yvf9nMx9zkYgc",
      "include_colab_link": true
    },
    "kernelspec": {
      "name": "python3",
      "display_name": "Python 3"
    },
    "language_info": {
      "name": "python"
    }
  },
  "cells": [
    {
      "cell_type": "markdown",
      "metadata": {
        "id": "view-in-github",
        "colab_type": "text"
      },
      "source": [
        "<a href=\"https://colab.research.google.com/github/sciberbee/codes_algorithm_interview_2022/blob/main/Interview_Code_Snippets.ipynb\" target=\"_parent\"><img src=\"https://colab.research.google.com/assets/colab-badge.svg\" alt=\"Open In Colab\"/></a>"
      ]
    },
    {
      "cell_type": "markdown",
      "source": [
        "SH Bang's Code Snippets for Python Algorithm Interview\n",
        "and for others so on..!"
      ],
      "metadata": {
        "id": "59i1xfyHYPO_"
      }
    },
    {
      "cell_type": "markdown",
      "source": [
        "Snippet 1. Basic Form"
      ],
      "metadata": {
        "id": "LQgYtZ2wXszX"
      }
    },
    {
      "cell_type": "code",
      "execution_count": null,
      "metadata": {
        "colab": {
          "base_uri": "https://localhost:8080/",
          "height": 137
        },
        "id": "6eGV99K2XTv7",
        "outputId": "07b5dbb4-c057-48da-bdaf-9e04bb60b2cd"
      },
      "outputs": [
        {
          "output_type": "error",
          "ename": "SyntaxError",
          "evalue": "ignored",
          "traceback": [
            "\u001b[0;36m  File \u001b[0;32m\"<ipython-input-1-a3b16b17f018>\"\u001b[0;36m, line \u001b[0;32m3\u001b[0m\n\u001b[0;31m    param_1 =\u001b[0m\n\u001b[0m             ^\u001b[0m\n\u001b[0;31mSyntaxError\u001b[0m\u001b[0;31m:\u001b[0m invalid syntax\n"
          ]
        }
      ],
      "source": [
        "#from ~ import ~\n",
        "\n",
        "param_1 =\n",
        "\n",
        "# Started at\n",
        "# Finished at\n",
        "\"\"\"\n",
        "My Idea : \n",
        "\"\"\"\n",
        "\"\"\"\n",
        "What I Learned : \n",
        "\"\"\"\n",
        "\n",
        "\n",
        "class Solution:\n",
        "    def function(self, arg):\n",
        "        pass\n",
        "\n",
        "print(Solution.function(Solution, param_1))"
      ]
    },
    {
      "cell_type": "markdown",
      "source": [
        "Snippet 2. Stack Technique\n"
      ],
      "metadata": {
        "id": "upqVchUkX1Yb"
      }
    },
    {
      "cell_type": "code",
      "source": [
        "\"\"\"\n",
        "What I Learned :\n",
        "I. Initializing. \n",
        "We can initilize answer as [0] * length(T), so that we don't have to push 0 if answer doesn't appear.\n",
        "take this approach as... The *DEFAULT Outcome* is 0(impossible), and we change it to answer(date diff) only if we found answer.\n",
        "I think I'd better memorize this approach and code snippet //answer = [0] * len(T)//.\n",
        "\n",
        "II. Usage of stack.\n",
        "while stack and T[i] > T[stack[-1]]:\n",
        "    day = stack.pop()\n",
        "    answer[day] = i - day\n",
        "stack.append(i)\n",
        "\n",
        "var i is current index, and we check for processible days from stack.\n",
        "and for each day, we update the answer as many as possible at current index.\n",
        "checking stack emptiness prevents index error by shortcircuiting.\n",
        "I'd better memorize...\n",
        "\n",
        "while stack and T[i] > T[stack[-1]]:\n",
        "and\n",
        "(stack check)\n",
        "(push current val to stack)\n",
        "order.\n",
        "\"\"\"\n",
        "\n",
        "answer = [0] * len(T)\n",
        "\n",
        "while stack and T[i] > T[stack[-1]]:\n",
        "  #process as much index as possible\n",
        "  #break\n",
        "stack.append(i)\n",
        "  #push the current index to be processed later"
      ],
      "metadata": {
        "id": "OuvrP5ZlidqB"
      },
      "execution_count": null,
      "outputs": []
    },
    {
      "cell_type": "markdown",
      "source": [
        "Snippet 3. Initializing"
      ],
      "metadata": {
        "id": "Tc70NjdBhqGZ"
      }
    },
    {
      "cell_type": "code",
      "source": [
        "def circularQueue:\n",
        "  self.queue = [None] * k"
      ],
      "metadata": {
        "id": "-gLWxfCIhtLg"
      },
      "execution_count": null,
      "outputs": []
    }
  ]
}